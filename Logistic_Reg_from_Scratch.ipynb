{
  "nbformat": 4,
  "nbformat_minor": 0,
  "metadata": {
    "colab": {
      "provenance": [],
      "authorship_tag": "ABX9TyM0qgHlE1snb8VOqzUkUk3U"
    },
    "kernelspec": {
      "name": "python3",
      "display_name": "Python 3"
    },
    "language_info": {
      "name": "python"
    }
  },
  "cells": [
    {
      "cell_type": "code",
      "execution_count": 1,
      "metadata": {
        "id": "22PuGbyymzl6"
      },
      "outputs": [],
      "source": [
        "import numpy as np"
      ]
    },
    {
      "cell_type": "code",
      "source": [
        "class Logistic_Regression():\n",
        "\n",
        "  def __init__(self,learning_rate, no_of_iterations):\n",
        "    self.learning_rate = learning_rate\n",
        "    self.no_of_iterations = no_of_iterations\n",
        "\n",
        "  def fit(self,X,Y):\n",
        "    self.m, self.n = X.shape\n",
        "    self.w = np.zeros(self.n)\n",
        "    self.b = 0\n",
        "    self.X = X\n",
        "    self.Y = Y\n",
        "\n",
        "    for i in range(self.no_of_iterations):\n",
        "      self.update_weights()\n",
        "\n",
        "  def update_weights(self,):\n",
        "    #sigmoid equation\n",
        "    y_hat = 1/(1+np.exp(-(self.X.dot(self.w)+self.b)))\n",
        "\n",
        "    #derivatives / gradient\n",
        "    dw = (1/self.m)*np.dot(self.X.T,(y_hat - self.Y))\n",
        "    db = (1/self.m)*np.sum(y_hat - self.Y)\n",
        "\n",
        "    #updating the weights and bias\n",
        "    self.w = self.w - self.learning_rate*dw\n",
        "    self.b = self.b - self.learning_rate*db\n",
        "\n",
        "  def predict(self,):\n",
        "    y_pred = 1/(1+np.exp(-(self.X.dot(self.w)+self.b)))\n",
        "    y_pred = np.where(y_pred>0.5,1,0)\n",
        "    return y_pred"
      ],
      "metadata": {
        "id": "F69dI6mOnrh8"
      },
      "execution_count": 2,
      "outputs": []
    },
    {
      "cell_type": "code",
      "source": [],
      "metadata": {
        "id": "K8yD0LDhC2cu"
      },
      "execution_count": null,
      "outputs": []
    }
  ]
}